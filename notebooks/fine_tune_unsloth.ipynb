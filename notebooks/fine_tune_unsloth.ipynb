{
 "cells": [
  {
   "cell_type": "code",
   "execution_count": 1,
   "metadata": {},
   "outputs": [
    {
     "name": "stdout",
     "output_type": "stream",
     "text": [
      "🦥 Unsloth: Will patch your computer to enable 2x faster free finetuning.\n",
      "Unsloth: Failed to patch Gemma3ForConditionalGeneration.\n",
      "🦥 Unsloth Zoo will now patch everything to make training faster!\n"
     ]
    }
   ],
   "source": [
    "import torch\n",
    "\n",
    "from datasets import Dataset\n",
    "\n",
    "from unsloth import FastLanguageModel\n",
    "from trl import SFTTrainer\n",
    "from transformers import TrainingArguments\n",
    "from unsloth import is_bfloat16_supported"
   ]
  },
  {
   "cell_type": "code",
   "execution_count": null,
   "metadata": {},
   "outputs": [],
   "source": [
    "from webbot_datasets.model_prompts import bot_prompt, filter_prompt\n",
    "from webbot_datasets.training_datasets import bot_dataset, bot_verification_dataset, filter_dataset, filter_verification_dataset"
   ]
  },
  {
   "cell_type": "code",
   "execution_count": 5,
   "metadata": {},
   "outputs": [],
   "source": [
    "import os\n",
    "from pathlib import Path\n",
    "os.makedirs(Path(os.environ['STORAGE_DIR'], \"cache\"), exist_ok=True)\n",
    "\n",
    "def init_model_and_tokenizer(max_seq_length):\n",
    "    #model_name = \"unsloth/Llama-3.2-3B\",\n",
    "    model, tokenizer = FastLanguageModel.from_pretrained(\n",
    "        model_name= \"/app/shared_storage/llama3.2_3b_webbot\", # \"unsloth/Llama-3.2-3B-bnb-4bit\",\n",
    "        max_seq_length = max_seq_length,\n",
    "        load_in_4bit = True, # reduce memory usage\n",
    "        cache_dir=Path(os.environ['STORAGE_DIR'], \"cache\").as_posix()\n",
    "    )\n",
    "    return model, tokenizer\n",
    "\n",
    "\n",
    "def create_dataset(ds, eos_token, prompt):\n",
    "    d = {\n",
    "        \"text\": [],\n",
    "        \"user\": [],\n",
    "        \"assistant\": []\n",
    "    }\n",
    "    for tune in ds:\n",
    "        d['user'].append(prompt.format(query=tune[\"question\"]) + eos_token)\n",
    "        d['assistant'].append(tune[\"answer\"] + eos_token)\n",
    "        sample = prompt.format(query=tune[\"question\"]) + tune[\"answer\"]\n",
    "        d['text'].append(sample + eos_token)\n",
    "    return Dataset.from_dict(d)\n",
    "\n",
    "\n",
    "def log_gpu_stats():\n",
    "    gpu_stats = torch.cuda.get_device_properties(0)\n",
    "    start_gpu_memory = round(torch.cuda.max_memory_reserved() / 1024 / 1024 / 1024, 3)\n",
    "    max_memory = round(gpu_stats.total_memory / 1024 / 1024 / 1024, 3)\n",
    "    print(\"-\"*80)\n",
    "    print(f\"GPU = {gpu_stats.name}. Max memory = {max_memory} GB.\")\n",
    "    print(f\"{start_gpu_memory} GB of memory reserved.\")\n",
    "    print(\"-\"*80)\n",
    "    \n",
    "    return start_gpu_memory, max_memory\n",
    "\n",
    "\n",
    "def log_gpu_usage(start_gpu_memory, max_memory, trainer_stats):\n",
    "    used_memory = round(torch.cuda.max_memory_reserved() / 1024 / 1024 / 1024, 3)\n",
    "    used_memory_for_lora = round(used_memory - start_gpu_memory, 3)\n",
    "    used_percentage = round(used_memory         /max_memory*100, 3)\n",
    "    lora_percentage = round(used_memory_for_lora/max_memory*100, 3)\n",
    "    \n",
    "    print(\"-\"*80)\n",
    "    print(f\"{trainer_stats.metrics['train_runtime']} seconds used for training.\")\n",
    "    print(f\"{round(trainer_stats.metrics['train_runtime']/60, 2)} minutes used for training.\")\n",
    "    print(f\"Peak reserved memory = {used_memory} GB.\")\n",
    "    print(f\"Peak reserved memory for training = {used_memory_for_lora} GB.\")\n",
    "    print(f\"Peak reserved memory % of max memory = {used_percentage} %.\")\n",
    "    print(f\"Peak reserved memory for training % of max memory = {lora_percentage} %.\")\n",
    "    print(\"-\"*80)"
   ]
  },
  {
   "cell_type": "code",
   "execution_count": null,
   "metadata": {},
   "outputs": [],
   "source": [
    "if not torch.cuda.is_available():\n",
    "    print(\"CUDA is not available. Exiting.\")\n",
    "\n",
    "max_seq_length = 1024\n",
    "model, tokenizer = init_model_and_tokenizer(max_seq_length)"
   ]
  },
  {
   "cell_type": "code",
   "execution_count": 36,
   "metadata": {},
   "outputs": [],
   "source": [
    "model = FastLanguageModel.get_peft_model(\n",
    "    model,\n",
    "    r = 16, # Choose any number > 0 ! Suggested 8, 16, 32, 64, 128\n",
    "    target_modules = [\"q_proj\", \"k_proj\", \"v_proj\", \"o_proj\",\n",
    "                        \"gate_proj\", \"up_proj\", \"down_proj\",],\n",
    "    lora_alpha = 16,\n",
    "    lora_dropout = 0, # Supports any, but = 0 is optimized\n",
    "    bias = \"none\",    # Supports any, but = \"none\" is optimized\n",
    "    use_gradient_checkpointing = True, # True or \"unsloth\" for very long context\n",
    "    random_state = 3407,\n",
    "    use_rslora = False,  # We support rank stabilized LoRA\n",
    "    loftq_config = None, # And LoftQ\n",
    ")"
   ]
  },
  {
   "cell_type": "code",
   "execution_count": null,
   "metadata": {},
   "outputs": [],
   "source": [
    "fds = create_dataset(filter_dataset, tokenizer.eos_token, filter_prompt)\n",
    "f_steps = 30\n",
    "# loss should become ~ 0.1\n",
    "\n",
    "ds = create_dataset(bot_dataset, tokenizer.eos_token, bot_prompt)\n",
    "d_steps = 120\n",
    "# loss should become ~ 0.012100\n",
    "\n",
    "# select config\n",
    "train_dataset = ds\n",
    "max_steps = d_steps\n",
    "\n",
    "trainer = SFTTrainer(\n",
    "    model = model,\n",
    "    tokenizer = tokenizer,\n",
    "    train_dataset = train_dataset,\n",
    "    packing = False, # Can make training 5x faster for short sequences.\n",
    "    args = TrainingArguments(\n",
    "        per_device_train_batch_size = 2,\n",
    "        gradient_accumulation_steps = 4,\n",
    "        warmup_steps = 5,\n",
    "        # num_train_epochs = 1, # Set this for 1 full training run.\n",
    "        max_steps = max_steps,\n",
    "        learning_rate = 2e-4,\n",
    "        fp16 = not is_bfloat16_supported(),\n",
    "        bf16 = is_bfloat16_supported(),\n",
    "        logging_steps = 1,\n",
    "        optim = \"adamw_8bit\",\n",
    "        weight_decay = 0.01,\n",
    "        lr_scheduler_type = \"linear\",\n",
    "        seed = 3407,\n",
    "        output_dir = \"outputs\",\n",
    "    ),\n",
    ")\n",
    "\n",
    "start_gpu_memory, max_memory = log_gpu_stats()"
   ]
  },
  {
   "cell_type": "code",
   "execution_count": null,
   "metadata": {},
   "outputs": [],
   "source": [
    "trainer_stats = trainer.train()"
   ]
  },
  {
   "cell_type": "code",
   "execution_count": null,
   "metadata": {},
   "outputs": [],
   "source": [
    "log_gpu_usage(start_gpu_memory, max_memory, trainer_stats)"
   ]
  },
  {
   "cell_type": "code",
   "execution_count": 7,
   "metadata": {},
   "outputs": [],
   "source": [
    "FastLanguageModel.for_inference(model)\n",
    "\n",
    "def query_model(prompt: str, query: str):\n",
    "    input_tokens = tokenizer(\n",
    "        [prompt.format(query=query)],\n",
    "        add_special_tokens = False,\n",
    "        return_tensors = \"pt\"\n",
    "    ).to(\"cuda\")\n",
    "\n",
    "    gen_ids = model.generate(\n",
    "        **input_tokens,\n",
    "        max_new_tokens = 64,\n",
    "        use_cache=True,\n",
    "        temperature = 0.5,\n",
    "        min_p = 0.1\n",
    "    )\n",
    "\n",
    "    output = tokenizer.decode(\n",
    "        gen_ids[:, input_tokens['input_ids'].shape[1]:][0],\n",
    "        skip_prompt = True,\n",
    "        skip_special_tokens = True)\n",
    "\n",
    "    return output.strip()"
   ]
  },
  {
   "cell_type": "code",
   "execution_count": null,
   "metadata": {},
   "outputs": [],
   "source": [
    "def verify_filter():\n",
    "    prompt = filter_prompt\n",
    "    for q in filter_verification_dataset:\n",
    "        output = query_model(prompt, q['query'])\n",
    "        if output != q['answer']:\n",
    "            print(f\"FAILED: {output} - {q['query']}\")\n",
    "\n",
    "verify_filter()\n",
    "\n",
    "# if happy save :)\n",
    "# model.save_pretrained(Path(os.environ['STORAGE_DIR'], \"llama3.2_3b_webfilter\").as_posix())\n",
    "# tokenizer.save_pretrained(Path(os.environ['STORAGE_DIR'], \"llama3.2_3b_webfilter\").as_posix())"
   ]
  },
  {
   "cell_type": "code",
   "execution_count": null,
   "metadata": {},
   "outputs": [],
   "source": [
    "# basic verification queries\n",
    "for query in bot_verification_dataset:\n",
    "    output = query_model(bot_prompt, query)\n",
    "    print(output)\n",
    "    print(\"-\"*80)\n",
    "\n",
    "# if happy save :)\n",
    "# model.save_pretrained(Path(os.environ['STORAGE_DIR'], \"llama3.2_3b_webbot\").as_posix())\n",
    "# tokenizer.save_pretrained(Path(os.environ['STORAGE_DIR'], \"llama3.2_3b_webbot\").as_posix())"
   ]
  }
 ],
 "metadata": {
  "kernelspec": {
   "display_name": "Python 3 (ipykernel)",
   "language": "python",
   "name": "python3"
  },
  "language_info": {
   "codemirror_mode": {
    "name": "ipython",
    "version": 3
   },
   "file_extension": ".py",
   "mimetype": "text/x-python",
   "name": "python",
   "nbconvert_exporter": "python",
   "pygments_lexer": "ipython3",
   "version": "3.12.9"
  }
 },
 "nbformat": 4,
 "nbformat_minor": 2
}
